{
 "cells": [
  {
   "cell_type": "markdown",
   "metadata": {},
   "source": [
    "# Homework 3\n",
    "##### NumPDE\n",
    "\n",
    "__Devon Kesseli__\n",
    "\n",
    "October 24th, 2018\n",
    "\n"
   ]
  },
  {
   "cell_type": "markdown",
   "metadata": {
    "collapsed": true
   },
   "source": [
    "### Problem Statement\n",
    "\n",
    "Write a solver for the regularized $p$-Laplacian,\n",
    "$$ -\\nabla\\cdot\\big( \\kappa(\\nabla u) \\nabla u \\big) = 0 $$\n",
    "where\n",
    "$$ \\kappa(\\nabla u) = \\big(\\frac 1 2 \\epsilon^2 + \\frac 1 2 \\nabla u \\cdot \\nabla u \\big)^{\\frac{p-2}{2}}, $$\n",
    "$ \\epsilon > 0$, and $1 < p < \\infty$.  The case $p=2$ is the conventional Laplacian. This problem gets more strongly nonlinear when $p$ is far from 2 and when $\\epsilon$ approaches zero. The $p \\to 1$ limit is related to plasticity and has applications in non-Newtonion flows and structural mechanics.\n",
    "\n",
    "1. Implement a \"Picard\" solver, which is like a Newton solver except that the Jacobian is replaced by the linear system\n",
    "$$ J_{\\text{Picard}}(u) \\delta u \\sim -\\nabla\\cdot\\big( \\kappa(\\nabla u) \\nabla \\delta u \\big) . $$\n",
    "This is much easier to implement than the full Newton linearization.  How fast does this method converge for values of $p < 2$ and $p > 2$?\n",
    "\n",
    "* Use the linearization above as a preconditioner to a Newton-Krylov method.  That is, use [`scipy.sparse.linalg.LinearOperator`](https://docs.scipy.org/doc/scipy-0.19.1/reference/generated/scipy.sparse.linalg.LinearOperator.html) to apply the Jacobian to a vector\n",
    "$$ \\tilde J(u) v = \\frac{F(u + h v) - F(u)}{h} . $$\n",
    "Then for each linear solve, use [`scipy.sparse.linalg.gmres`](https://docs.scipy.org/doc/scipy-0.19.1/reference/generated/scipy.sparse.linalg.gmres.html) and pass as a preconditioner, a direct solve with the Picard linearization above. (You might find [`scipy.sparse.linalg.factorized`](https://docs.scipy.org/doc/scipy-0.19.1/reference/generated/scipy.sparse.linalg.factorized.html#scipy.sparse.linalg.factorized) to be useful. Compare algebraic convergence to that of the Picard method.\n",
    "\n",
    "* Can you directly implement a Newton linearization?  Either do it or explain what is involved.  How will its nonlinear convergence compare to that of the Newton-Krylov method?"
   ]
  },
  {
   "cell_type": "markdown",
   "metadata": {},
   "source": [
    "## [1]\n",
    "\n",
    "The Picard solver can use most of what already exists in the nonlinear2d_div from the course notebooks.  The new additions are:\n",
    "\n",
    " - p and $\\epsilon$ were added.  I made p an input, to look at convergence, and $\\epsilon$ built into the function.\n",
    " - x and y gradients are necessary at the staggered points for $\\kappa$, so the stencil was extended to 9 points.  I decided to make seperate stencils for the x and y portions of the gradient.\n",
    " - the 5 point gradient and avg stencil waere updated to 9 points. This is the gradient normal to the walls formed at the staggered points.\n",
    " - $\\kappa$ was updated to the new function\n",
    " - An extra Jout input (default True) was set for use in part 2.  This just decides if J is a required output."
   ]
  },
  {
   "cell_type": "code",
   "execution_count": 267,
   "metadata": {},
   "outputs": [
    {
     "data": {
      "image/png": "[encoded data removed]",
      "text/plain": [
       "<matplotlib.figure.Figure at 0x151bf7df28>"
      ]
     },
     "metadata": {},
     "output_type": "display_data"
    }
   ],
   "source": [
    "%matplotlib inline\n",
    "import numpy\n",
    "from matplotlib import pyplot\n",
    "pyplot.style.use('ggplot')\n",
    "import cProfile, pstats\n",
    "import scipy.sparse as sp\n",
    "import scipy.sparse.linalg\n",
    "\n",
    "def hgrid(h):\n",
    "    m = int(1/h + 1)  # Number of elements in terms of nominal grid spacing h\n",
    "    h = 1 / (m-1)     # Actual grid spacing\n",
    "    c = numpy.linspace(0, 1, m)\n",
    "    y, x = numpy.meshgrid(c, c)\n",
    "    return x, y\n",
    "\n",
    "def nonlinear2d_divPic(p,h, x, y, u, forcing, g0, dirichlet=((),()),Jout = True):\n",
    "    m = x.shape[0]\n",
    "    u0 = g0(x, y).flatten()\n",
    "    F = -forcing(x, y).flatten()\n",
    "    ai = []\n",
    "    aj = []\n",
    "    av = []\n",
    "    eps = 1\n",
    "    #p = 4\n",
    "    def idx(i, j):\n",
    "        i = (m-1) - abs(m-1 - abs(i))\n",
    "        j = (m-1) - abs(m-1 - abs(j))\n",
    "        return i*m + j\n",
    "    mask = numpy.ones_like(x, dtype=bool)\n",
    "    mask[dirichlet[0],:] = False\n",
    "    mask[:,dirichlet[1]] = False\n",
    "    mask = mask.flatten()\n",
    "    u = u.flatten()\n",
    "    F[mask == False] = u[mask == False] - u0[mask == False]\n",
    "    u[mask == False] = u0[mask == False]\n",
    "    for i in range(m):\n",
    "        for j in range(m):\n",
    "            row = idx(i, j)\n",
    "            stencili = numpy.array([idx(*pair) for pair in [(i-1, j+1), (i, j+1), (i+1, j+1), (i-1, j), (i, j),(i+1,j),(i-1,j-1),(i,j-1),(i+1,j-1)]])\n",
    "            # Stencil to evaluate x-portion of the gradient at four staggered points\n",
    "            xgrad = numpy.array([[0, 0, 0, -1, 1, 0, 0, 0, 0],\n",
    "                                 [-0.25, 0, 0.25, -0.25, 0, 0.25, 0, 0, 0],\n",
    "                                 [0, 0, 0, 0, -1, 1, 0, 0, 0],\n",
    "                                 [0, 0, 0, -0.25, 0, 0.25, -0.25, 0, 0.25]]) / h\n",
    "            # Stencil to evaluate y-portion of the gradient at four staggered points\n",
    "            ygrad = numpy.array([[0.25, 0.25, 0, 0, 0, 0, -0.25, -0.25, 0],\n",
    "                                 [0, 0, 0, 0, 1, 0, 0, -1, 0],\n",
    "                                 [0, 0.25, 0.25, 0, 0, 0, 0, -0.25, -0.25],\n",
    "                                 [0, 1, 0, 0, -1, 0, 0, 0, 0]]) / h\n",
    "            # Stencil to evaluate normal portion of the gradient at four staggered points\n",
    "            normgrad = numpy.array([[0, 0, 0, -1, 1, 0, 0, 0, 0],\n",
    "                                 [0, 0, 0, 0, 1, 0, 0, -1, 0],\n",
    "                                 [0, 0, 0, 0, -1, 1, 0, 0, 0],\n",
    "                                 [0, 1, 0, 0, -1, 0, 0, 0, 0]]) / h\n",
    "            # Stencil to average at four staggered points\n",
    "            avg  = numpy.array([[0, 0, 0, 1, 1, 0, 0, 0, 0],\n",
    "                                [0, 0, 0, 0, 1, 0, 0, 1, 0],\n",
    "                                [0, 0, 0, 0, 1, 1, 0, 0, 0],\n",
    "                                [0, 1, 0, 0, 1, 0, 0, 0, 0]]) / 2\n",
    "            # Stencil to compute divergence at cell centers from fluxes at four staggered points\n",
    "            div = numpy.array([-1, -1, 1, 1]) / h\n",
    "            ustencil = u[stencili]\n",
    "            ustag = avg @ ustencil\n",
    "            kappa = (0.5*eps**2+0.5*((xgrad @ ustencil)**2+(ygrad @ ustencil)**2))**((p-2)/2)\n",
    "            if mask[row] == 0: # Dirichlet boundary\n",
    "                ai.append(row)\n",
    "                aj.append(row)\n",
    "                av.append(1)\n",
    "            else:\n",
    "                F[row] -= div @ (kappa[:,None] * normgrad @ ustencil)\n",
    "                if Jout:\n",
    "                    Jstencil = -div @ (kappa[:,None] * normgrad\n",
    "                        + 2*(ustag*(normgrad @ ustencil))[:,None] * avg)\n",
    "                smask = mask[stencili]\n",
    "                ai += [row]*sum(smask)\n",
    "                aj += stencili[smask].tolist()\n",
    "                if Jout:\n",
    "                    av += Jstencil[smask].tolist()\n",
    "    if Jout:\n",
    "        J = sp.csr_matrix((av, (ai, aj)), shape=(m*m,m*m))\n",
    "    else:\n",
    "        J = []\n",
    "    return F, J\n",
    "\n",
    "h = .1\n",
    "x, y = hgrid(h)\n",
    "u = 0*x\n",
    "p = 3\n",
    "F, J = nonlinear2d_divPic(p, h, x, y, u, lambda x,y: 0*x+1,\n",
    "                       lambda x,y: 0*x, dirichlet=((0,-1),(0,-1)))\n",
    "deltau = sp.linalg.spsolve(J, -F).reshape(x.shape)\n",
    "pyplot.contourf(x, y, deltau)\n",
    "pyplot.colorbar();"
   ]
  },
  {
   "cell_type": "markdown",
   "metadata": {},
   "source": [
    "### Convergence rate with p\n",
    "\n",
    "Next I looked at convergence rate with p.  Below, iterations vs. p are plotted for $\\epsilon = 1$.  As expected, it is lowest with p = 2 (classic LaPlacian), and increases around that (in steps, since iterations are discreet numbers)."
   ]
  },
  {
   "cell_type": "code",
   "execution_count": 271,
   "metadata": {},
   "outputs": [
    {
     "data": {
      "text/plain": [
       "Text(0.5,0,'iterations to converge')"
      ]
     },
     "execution_count": 271,
     "metadata": {},
     "output_type": "execute_result"
    },
    {
     "data": {
      "image/png": "[encoded data removed]",
      "text/plain": [
       "<matplotlib.figure.Figure at 0x151d751390>"
      ]
     },
     "metadata": {},
     "output_type": "display_data"
    }
   ],
   "source": [
    "def solve_nonlinear(p, h, g0, dirichlet, atol=1e-8, verbose=False):\n",
    "    x, y = hgrid(h)\n",
    "    u = 0*x\n",
    "    for i in range(50):\n",
    "        F, J = nonlinear2d_divPic(p, h, x, y, u, lambda x,y: 0*x+1,\n",
    "                               lambda x,y: 0*x, dirichlet=((0,-1),(0,-1)))\n",
    "        anorm = numpy.linalg.norm(F, numpy.inf)\n",
    "        if verbose:\n",
    "            print('{:2d}: anorm {:8e}'.format(i,anorm))\n",
    "        if anorm < atol:\n",
    "            break\n",
    "        deltau = sp.linalg.spsolve(J, -F)\n",
    "        u += deltau.reshape(x.shape)\n",
    "    return x, y, u, i\n",
    "\n",
    "pvals = numpy.linspace(1.1,5,39) #Maybe an excessive number of points...\n",
    "iterations = []\n",
    "for ii in range(len(pvals)):\n",
    "    x, y, u, i = solve_nonlinear(pvals[ii], 0.1, lambda x,y: 0*x, dirichlet=((0,-1),(0,-1)), verbose=False)\n",
    "    iterations = iterations + [i]\n",
    "    \n",
    "    \n",
    "pyplot.plot(pvals,iterations)\n",
    "pyplot.xlabel('p')\n",
    "pyplot.xlabel('iterations to converge')"
   ]
  },
  {
   "cell_type": "markdown",
   "metadata": {},
   "source": [
    "## [2] Preconditioned Newton-Krylov\n",
    "\n",
    "Here the Newton-Krylov method is implemented with gmres, and the Picard preconditioner from part a.  It may look like only a handful of new lines added to the code from the Algebraic Solver notebook, but wowowow it took a while to get right.  I think it is working correctly now. Here are the main updates:\n",
    "\n",
    " - I made an F2 function, which just runs the code from part 1 with all inputs except u.  The extra parameter, `Jout = False`, allows it to run without calculating J, since it doesn't need this for every F evaluation.\n",
    " - Jpic (the Picard approx) is calculated in the loop.\n",
    " - It is then reformated to a csc matrix (not doing this gave efficiency errors)\n",
    " - and inverted using the sparse inversion from scipy. I think this is about the same as using the sparse factorization, and doesn't require the callable returned by `factorized` to be converted into an array (only one extra line).\n",
    " - gmres is run with the preconditioner.\n",
    " \n",
    "Here, with p = 3 and $\\epsilon$ (the one in $\\kappa$) = 1, it only takes 3 iterations to converge instead of 9 in part 1. "
   ]
  },
  {
   "cell_type": "code",
   "execution_count": 268,
   "metadata": {},
   "outputs": [
    {
     "name": "stdout",
     "output_type": "stream",
     "text": [
      "Newton 0 anorm 7.25e-01 rnorm 8.05e-02\n",
      "Newton 1 anorm 8.53e-03 rnorm 9.47e-04\n",
      "Newton 2 anorm 4.79e-06 rnorm 5.32e-07\n"
     ]
    },
    {
     "data": {
      "image/png": "[encoded data removed]",
      "text/plain": [
       "<matplotlib.figure.Figure at 0x151c3ca470>"
      ]
     },
     "metadata": {},
     "output_type": "display_data"
    }
   ],
   "source": [
    "import scipy.sparse.linalg as splinalg\n",
    "import numpy\n",
    "import scipy.sparse\n",
    "\n",
    "def fsolve_newtonkrylov(F2, u0, epsilon=1e-8, rtol=1e-10, maxit=50, verbose=False):\n",
    "    u = u0.copy().flatten() #must flatten u to apply the F function\n",
    "    Fu = F2(u)\n",
    "    x, y = hgrid(h)\n",
    "    norm0 = numpy.linalg.norm(Fu)\n",
    "    for i in range(maxit):\n",
    "        def Ju_fd(v):\n",
    "            return (F2(u + epsilon*v) - Fu) / epsilon\n",
    "        Ju = splinalg.LinearOperator((len(Fu),len(u)), matvec=Ju_fd)\n",
    "        Fnot, Jpic = nonlinear2d_divPic(p, h, x, y, u, lambda x,y: 0*x+1,\n",
    "                       lambda x,y: 0*x, dirichlet=((0,-1),(0,-1)))\n",
    "        Jpic2 = scipy.sparse.csc_matrix(Jpic) #gmres gives warnings when the sparse matrix is not in csc forma\n",
    "        Mpic = splinalg.inv(Jpic2) #I think using the parse invert is the same as factorizing an \n",
    "        #solve = splinalg.factorized(Jpic)\n",
    "        #Mfac = \n",
    "        du, info = splinalg.gmres(Ju, Fu, M = Mpic)\n",
    "        if info != 0:\n",
    "            raise RuntimeError('GMRES failed to converge: {:d}'.format(info))\n",
    "        u -= du\n",
    "        Fu = F2(u)\n",
    "        norm = numpy.linalg.norm(Fu)\n",
    "        if verbose:\n",
    "            print('Newton {:d} anorm {:6.2e} rnorm {:6.2e}'.format(i, norm, norm/norm0))\n",
    "        if norm < rtol * norm0:\n",
    "            break\n",
    "    return u, i\n",
    "\n",
    "def FFunc(u):\n",
    "    F,J = nonlinear2d_divPic(p, h, x, y, u, lambda x,y: 0*x+1,\n",
    "                       lambda x,y: 0*x, dirichlet=((0,-1),(0,-1)),Jout = False)\n",
    "    return F\n",
    "\n",
    "\n",
    "p = 3\n",
    "h = 0.1\n",
    "h = .1\n",
    "x, y = hgrid(h)\n",
    "u0 = 0*x\n",
    "\n",
    "u,i = fsolve_newtonkrylov(FFunc, u0, rtol=1e-6, verbose=True)\n",
    "\n",
    "uplot = u.reshape(x.shape)\n",
    "pyplot.contourf(x, y, uplot)\n",
    "pyplot.colorbar();"
   ]
  },
  {
   "cell_type": "markdown",
   "metadata": {},
   "source": [
    "## [3] Direct Newton Linearization\n",
    "\n",
    "I think I would try to diferentiate F and then discretize.  This will be like the Picard linearization, but with the additional $\\kappa$-derivative term from the product rule.  Using this we can use Newtons Method to solve directly.\n",
    "\n",
    "\n",
    "$$ J(u) \\delta u = -\\nabla\\cdot\\Big[ \\kappa(\\nabla u) \\nabla \\delta u + \\nabla u \\big( \\kappa'(\\nabla u)\\nabla \\delta u) \\big) \\Big] . $$\n",
    "\n",
    "$$ \\kappa'(\\nabla u)\\nabla \\delta u = \\Big(\\frac 1 2 \\epsilon^2 + \\frac 1 2 \\nabla u \\cdot \\nabla u \\Big)^{\\frac{p-2}{2} -1} \\Big( \\frac{p-2}{2} \\Big) \\Big( \\frac 1 2 \\nabla u \\cdot \\nabla \\delta u + \\nabla u \\cdot \\frac 1 2\\nabla \\delta u \\Big)$$\n",
    "\n",
    "which simplifies to\n",
    "\n",
    "$$ \\kappa'(\\nabla u)\\nabla \\delta u = \\Big(\\frac 1 2 \\epsilon^2 + \\frac 1 2 \\nabla u \\cdot \\nabla u \\Big)^{\\frac{p-2}{2} -1} \\Big( \\frac{p-2}{2} \\Big) \\Big( \\nabla u \\cdot \\nabla \\delta u \\Big)$$\n",
    "\n",
    "moving the $\\nabla \\delta u$ outside,\n",
    "\n",
    "$$ J(u) \\delta u = -\\nabla\\cdot\\Big[ \\kappa(\\nabla u) + \\nabla u \\big( \\kappa'(\\nabla u) \\big) \\Big] \\nabla \\delta u . $$\n",
    "\n",
    "This would take some effort to code up, but I think we could apply the same finite difference stenciling methods as in part 1 to make it work.\n",
    "\n",
    "\n",
    "The convergence of this method will be fast (Newton is quadratic), but each iteration will take a long time, since calculating J requires a lot of time and space.  I expect it would be slower than Newton-Krylov with preconditioning, since N-K is working with vectors, so will spend less time accessing memory.\n"
   ]
  },
  {
   "cell_type": "code",
   "execution_count": null,
   "metadata": {
    "collapsed": true
   },
   "outputs": [],
   "source": []
  }
 ],
 "metadata": {
  "kernelspec": {
   "display_name": "Python 3",
   "language": "python",
   "name": "python3"
  },
  "language_info": {
   "codemirror_mode": {
    "name": "ipython",
    "version": 3
   },
   "file_extension": ".py",
   "mimetype": "text/x-python",
   "name": "python",
   "nbconvert_exporter": "python",
   "pygments_lexer": "ipython3",
   "version": "3.6.3"
  }
 },
 "nbformat": 4,
 "nbformat_minor": 2
}
